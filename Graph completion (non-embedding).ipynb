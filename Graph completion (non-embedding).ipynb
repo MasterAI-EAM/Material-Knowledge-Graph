{
 "cells": [
  {
   "cell_type": "code",
   "execution_count": null,
   "id": "660eb770-7c0c-4550-98ba-af442a55ed26",
   "metadata": {},
   "outputs": [],
   "source": [
    "import json\n",
    "import csv\n",
    "import numpy as np\n",
    "import networkx as nx\n",
    "import math\n",
    "import pandas as pd\n",
    "import copy"
   ]
  },
  {
   "cell_type": "code",
   "execution_count": null,
   "id": "7abeee3f-c76c-4034-8d3d-dbf73cb27112",
   "metadata": {},
   "outputs": [],
   "source": [
    "threshord_year = 2018"
   ]
  },
  {
   "cell_type": "markdown",
   "id": "4d0c8492-a9ba-4ff0-9667-69294f846313",
   "metadata": {},
   "source": [
    "# Your need to load the text and pub_year (abs_year) of your corpus here."
   ]
  },
  {
   "cell_type": "code",
   "execution_count": null,
   "id": "f6738215-b245-4e9c-848d-e6fcfd652fe8",
   "metadata": {},
   "outputs": [],
   "source": [
    "former_abs = []\n",
    "later_abs = []\n",
    "\n",
    "for tuple in abs_year:\n",
    "    abs = tuple[0]\n",
    "    year = tuple[1]\n",
    "    if int(year) <= threshord_year:\n",
    "        former_abs.append(abs)\n",
    "    else:\n",
    "        later_abs.append(abs)"
   ]
  },
  {
   "cell_type": "markdown",
   "id": "bb63e516-79cf-4b3d-ac79-1c788301ee3c",
   "metadata": {},
   "source": [
    "# You need to load the result from ER.ipynb (NERoutput) here."
   ]
  },
  {
   "cell_type": "code",
   "execution_count": null,
   "id": "9144d358-e2ec-498a-bfad-6a68aec0b033",
   "metadata": {},
   "outputs": [],
   "source": [
    "trainset = []\n",
    "evalset = []\n",
    "\n",
    "for i in NERoutput:\n",
    "    doi = i[-1]\n",
    "    year = DOI_Year.get(doi, 'UNKNOWN')\n",
    "    if year == 'UNKNOWN':\n",
    "        continue\n",
    "    elif int(year) <= threshord_year:\n",
    "        trainset.append(i)\n",
    "    else:\n",
    "        evalset.append(i)"
   ]
  },
  {
   "cell_type": "code",
   "execution_count": null,
   "id": "47d4cfe6-e297-48ef-bf5c-c852028faa1d",
   "metadata": {},
   "outputs": [],
   "source": [
    "trainset = create_triples(trainset)\n",
    "trainset = clean_triples(trainset)\n",
    "evalset = create_triples(evalset)\n",
    "evalset = clean_triples(evalset)\n",
    "evalapp = {}\n",
    "\n",
    "for eval in evalset:\n",
    "    if eval[2] == 'hasApplication':\n",
    "        if eval[4] not in evalapp.keys():\n",
    "            evalapp[eval[4]] = [eval[1]]\n",
    "        else:\n",
    "            evalapp[eval[4]].append(eval[1])"
   ]
  },
  {
   "cell_type": "markdown",
   "id": "343848e4-2c3d-4daf-883d-8043d2eaca1c",
   "metadata": {},
   "source": [
    "# Define G"
   ]
  },
  {
   "cell_type": "code",
   "execution_count": null,
   "id": "66b13d26-1980-471d-b3e6-1d27df6acd38",
   "metadata": {},
   "outputs": [],
   "source": [
    "G = nx.Graph()\n",
    "\n",
    "for head_label, head, relation, tail_label, tail in trainset:\n",
    "    if head not in G:\n",
    "        G.add_node(head, label=head_label, name=head)\n",
    "    if tail not in G:\n",
    "        G.add_node(tail, label=tail_label, name=tail)\n",
    "    G.add_edge(head, tail, relationship=relation)\n",
    "\n",
    "    G.add_edge(head, tail, relationship=relation)"
   ]
  },
  {
   "cell_type": "markdown",
   "id": "8fc1b6b5",
   "metadata": {},
   "source": [
    "# Node Similarity"
   ]
  },
  {
   "cell_type": "code",
   "execution_count": null,
   "id": "a723e3de-a5dc-4686-a826-7b07af7b1e2f",
   "metadata": {
    "scrolled": true
   },
   "outputs": [],
   "source": [
    "def calculate_jaccard_similarity(set1, set2):\n",
    "    \"\"\"Calculate the Jaccard similarity between two sets\"\"\"\n",
    "    intersection = set1.intersection(set2)\n",
    "    union = set1.union(set2)\n",
    "    \n",
    "    return len(intersection) / len(union) if union else 0\n",
    "\n",
    "def jaccard_similarity():\n",
    "    target_relations = 'hasApplication'\n",
    "    related_relations = ['hasStructure/Phase', 'hasProperty']\n",
    "    excluded_relations = ['hasName', 'hasAcronym']\n",
    "    label = 'Application'\n",
    "    min_set_size = 5  # Set the minimum set size as the filtering condition\n",
    "    results = []\n",
    "    app = []\n",
    "\n",
    "    for node, attr in G.nodes(data=True):\n",
    "        if attr.get('label') == 'Application':\n",
    "            app.append(attr.get('name'))\n",
    "\n",
    "    for name in app:\n",
    "        excluded_nodes = set()\n",
    "        connected_nodes = {}\n",
    "        material_nodes = {}\n",
    "        application_prop = {}\n",
    "        target_prop = set()\n",
    "        \n",
    "        target_nodes = [node for node, attr in G.nodes(data=True) if attr.get('label') == label and node == name]\n",
    "        \n",
    "        if target_nodes:\n",
    "            target_node = target_nodes[0]\n",
    "            for neighbour in G.neighbors(target_node):\n",
    "                relationship = G[target_node][neighbour].get('relationship')\n",
    "                if relationship in target_relations:\n",
    "                    if neighbour not in connected_nodes:\n",
    "                        connected_nodes[neighbour] = []\n",
    "        else:\n",
    "            print(\"No node found with the specified label and name.\")\n",
    "        \n",
    "        for node, relationships in list(connected_nodes.items()):\n",
    "            for neighbour in G.neighbors(node):\n",
    "                relationship = G[node][neighbour].get('relationship')\n",
    "                if relationship in related_relations:\n",
    "                    relationships.append(neighbour)\n",
    "        \n",
    "        for node in connected_nodes.keys():\n",
    "            excluded_nodes.add(node)\n",
    "            for neighbour in G.neighbors(node):\n",
    "                relationship = G[node][neighbour].get('relationship')\n",
    "                if relationship in excluded_relations:\n",
    "                    excluded_nodes.add(neighbour)\n",
    "        \n",
    "        for node, attr in G.nodes(data=True):\n",
    "            if attr.get('label') in ['Formula'] and node not in excluded_nodes:\n",
    "                material_nodes[node] = []\n",
    "                for neighbour in G.neighbors(node):\n",
    "                    relationship = G[node][neighbour].get('relationship')\n",
    "                    if relationship in related_relations:\n",
    "                        material_nodes[node].append(neighbour)\n",
    "        \n",
    "        for neighbour in G.neighbors(target_node):\n",
    "            relationship = G[target_node][neighbour].get('relationship')\n",
    "            if relationship == 'hasProperty':\n",
    "                target_prop.add(neighbour)\n",
    "        \n",
    "        for node, attr in G.nodes(data=True):\n",
    "            if attr.get('label') == 'Application' and node != name:\n",
    "                application_prop[node] = []\n",
    "                for neighbour in G.neighbors(node):\n",
    "                    relationship = G[node][neighbour].get('relationship')\n",
    "                    if relationship == 'hasProperty':\n",
    "                        application_prop[node].append(neighbour)\n",
    "    \n",
    "        for mat_node, mat_features in material_nodes.items():\n",
    "            # Convert material properties into sets\n",
    "            mat_features_set = set(mat_features)\n",
    "            if len(mat_features_set) < min_set_size:\n",
    "                continue\n",
    "        \n",
    "            max_material_similarity = 0\n",
    "            most_similar_connected_material = None\n",
    "            material_similarity_scores = []\n",
    "        \n",
    "            # Traverse the materials in connected nodes and calculate similarity\n",
    "            for connected_node, connected_features in connected_nodes.items():\n",
    "                connected_features_set = set(connected_features)\n",
    "                if len(connected_features_set) >= min_set_size:\n",
    "                    similarity_score = calculate_jaccard_similarity(mat_features_set, connected_features_set)\n",
    "                    material_similarity_scores.append(similarity_score)\n",
    "                    \n",
    "                    # Update maximum similarity and most similar known materials\n",
    "                    if similarity_score > max_material_similarity:\n",
    "                        max_material_similarity = similarity_score\n",
    "                        most_similar_connected_material = connected_node\n",
    "        \n",
    "            app_similarity_score = 0\n",
    "            for neighbour in G.neighbors(mat_node):\n",
    "                relationship = G[mat_node][neighbour].get('relationship')\n",
    "                if relationship == 'hasApplication':\n",
    "                    if neighbour in application_prop:\n",
    "                        app_features_set = set(application_prop[neighbour])\n",
    "                        current_app_similarity = calculate_jaccard_similarity(app_features_set, target_prop)\n",
    "                        app_similarity_score = max(app_similarity_score, current_app_similarity)\n",
    "        \n",
    "            # Calculate the final similarity as the product of material similarity and application similarity\n",
    "            final_similarity = max_material_similarity * app_similarity_score\n",
    "            if final_similarity > 0:\n",
    "                results.append((mat_node, most_similar_connected_material, final_similarity, name))\n",
    "        \n",
    "        results.sort(key=lambda x: x[2], reverse=True)\n",
    "    return results\n",
    "\n",
    "\n",
    "jresults = jaccard_similarity()"
   ]
  },
  {
   "cell_type": "code",
   "execution_count": 178,
   "id": "d9f76dba-d097-4f7e-b8f1-9a0643c6d46f",
   "metadata": {},
   "outputs": [],
   "source": [
    "pred = set()\n",
    "\n",
    "for result in jresults[:200]:\n",
    "    isright = False\n",
    "    mat = result[0]\n",
    "    score = result[2]\n",
    "    app = result[3]\n",
    "    app_sep = result[3].split()\n",
    "    for abs in former_abs:\n",
    "        if mat in abs and all(word in abs for word in app_sep):\n",
    "            isright = True\n",
    "            break\n",
    "    if isright != True and app not in ['solar cell', 'water splitting'] and len(mat) > 3:\n",
    "        pred.add((mat, app, score))\n",
    "\n",
    "sorted_pred = sorted(pred, key=lambda x: x[2], reverse=True)"
   ]
  }
 ],
 "metadata": {
  "kernelspec": {
   "display_name": "Python 3 (ipykernel)",
   "language": "python",
   "name": "python3"
  },
  "language_info": {
   "codemirror_mode": {
    "name": "ipython",
    "version": 3
   },
   "file_extension": ".py",
   "mimetype": "text/x-python",
   "name": "python",
   "nbconvert_exporter": "python",
   "pygments_lexer": "ipython3",
   "version": "3.8.18"
  }
 },
 "nbformat": 4,
 "nbformat_minor": 5
}
